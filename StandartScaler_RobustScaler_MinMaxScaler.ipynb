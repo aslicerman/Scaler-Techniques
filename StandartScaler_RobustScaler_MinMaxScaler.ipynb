{
 "cells": [
  {
   "cell_type": "code",
   "execution_count": 1,
   "metadata": {},
   "outputs": [],
   "source": [
    "import numpy as np\n",
    "import pandas as pd\n",
    "def load_titanic():\n",
    "    data = pd.read_csv(\"train.csv\")\n",
    "    return data"
   ]
  },
  {
   "cell_type": "markdown",
   "metadata": {},
   "source": [
    "# StandardScaler"
   ]
  },
  {
   "cell_type": "markdown",
   "metadata": {},
   "source": [
    "#### StandardScaler: Klasik standartlaştırma. Ortalamayı çıkar, standart sapmaya böl. z = (x - u) / s"
   ]
  },
  {
   "cell_type": "markdown",
   "metadata": {},
   "source": [
    "***Sklearn ile***"
   ]
  },
  {
   "cell_type": "code",
   "execution_count": null,
   "metadata": {},
   "outputs": [],
   "source": []
  },
  {
   "cell_type": "code",
   "execution_count": 2,
   "metadata": {
    "scrolled": true
   },
   "outputs": [
    {
     "data": {
      "text/plain": [
       "count    7.140000e+02\n",
       "mean     2.388379e-16\n",
       "std      1.000701e+00\n",
       "min     -2.016979e+00\n",
       "25%     -6.595416e-01\n",
       "50%     -1.170488e-01\n",
       "75%      5.718310e-01\n",
       "max      3.465126e+00\n",
       "Name: Age, dtype: float64"
      ]
     },
     "execution_count": 2,
     "metadata": {},
     "output_type": "execute_result"
    }
   ],
   "source": [
    "df = load_titanic()\n",
    "from sklearn.preprocessing import StandardScaler\n",
    "df[\"Age\"] = StandardScaler().fit_transform(df[[\"Age\"]])\n",
    "df[\"Age\"].describe().T"
   ]
  },
  {
   "cell_type": "markdown",
   "metadata": {},
   "source": [
    "***From Scratch***"
   ]
  },
  {
   "cell_type": "code",
   "execution_count": 3,
   "metadata": {},
   "outputs": [
    {
     "data": {
      "text/plain": [
       "count    7.140000e+02\n",
       "mean     2.338621e-16\n",
       "std      1.000000e+00\n",
       "min     -2.015566e+00\n",
       "25%     -6.590796e-01\n",
       "50%     -1.169668e-01\n",
       "75%      5.714304e-01\n",
       "max      3.462699e+00\n",
       "Name: Age, dtype: float64"
      ]
     },
     "execution_count": 3,
     "metadata": {},
     "output_type": "execute_result"
    }
   ],
   "source": [
    "df = load_titanic()\n",
    "df.Age = (df.Age - df.Age.mean(axis = 0)) / df.Age.std(axis = 0)\n",
    "df[\"Age\"].describe().T"
   ]
  },
  {
   "cell_type": "markdown",
   "metadata": {},
   "source": [
    "# RobustScaler"
   ]
  },
  {
   "cell_type": "markdown",
   "metadata": {},
   "source": [
    "#### RobustScaler: Medyanı çıkar iqr'a böl."
   ]
  },
  {
   "cell_type": "markdown",
   "metadata": {},
   "source": [
    "***Sklearn ile***"
   ]
  },
  {
   "cell_type": "code",
   "execution_count": 4,
   "metadata": {},
   "outputs": [
    {
     "data": {
      "text/plain": [
       "count    714.000000\n",
       "mean       0.095056\n",
       "std        0.812671\n",
       "min       -1.542937\n",
       "25%       -0.440559\n",
       "50%        0.000000\n",
       "75%        0.559441\n",
       "max        2.909091\n",
       "Name: Age, dtype: float64"
      ]
     },
     "execution_count": 4,
     "metadata": {},
     "output_type": "execute_result"
    }
   ],
   "source": [
    "df = load_titanic()\n",
    "from sklearn.preprocessing import RobustScaler\n",
    "\n",
    "transformer = RobustScaler().fit(df[[\"Age\"]])\n",
    "df[\"Age\"] = transformer.transform(df[[\"Age\"]])\n",
    "df[\"Age\"].describe().T"
   ]
  },
  {
   "cell_type": "markdown",
   "metadata": {},
   "source": [
    "***From Scratch***"
   ]
  },
  {
   "cell_type": "code",
   "execution_count": 5,
   "metadata": {},
   "outputs": [
    {
     "data": {
      "text/plain": [
       "count    714.000000\n",
       "mean       0.095056\n",
       "std        0.812671\n",
       "min       -1.542937\n",
       "25%       -0.440559\n",
       "50%        0.000000\n",
       "75%        0.559441\n",
       "max        2.909091\n",
       "Name: Age, dtype: float64"
      ]
     },
     "execution_count": 5,
     "metadata": {},
     "output_type": "execute_result"
    }
   ],
   "source": [
    "#X-Q1(X) / Q3(X)-Q1(X)\n",
    "df = load_titanic()\n",
    "df[\"Age\"] = (df[\"Age\"]-df[\"Age\"].quantile(0.5)) / (df[\"Age\"].quantile(0.75)-df[\"Age\"].quantile(0.25))\n",
    "df[\"Age\"].describe().T"
   ]
  },
  {
   "cell_type": "code",
   "execution_count": 6,
   "metadata": {},
   "outputs": [
    {
     "data": {
      "text/plain": [
       "count    714.000000\n",
       "mean       0.095056\n",
       "std        0.812671\n",
       "min       -1.542937\n",
       "25%       -0.440559\n",
       "50%        0.000000\n",
       "75%        0.559441\n",
       "max        2.909091\n",
       "Name: Age, dtype: float64"
      ]
     },
     "execution_count": 6,
     "metadata": {},
     "output_type": "execute_result"
    }
   ],
   "source": [
    "df = load_titanic()\n",
    "q1 = df[\"Age\"].quantile(0.25)\n",
    "q3 = df[\"Age\"].quantile(0.75)\n",
    "iqr = q3 - q1\n",
    "df[\"Age\"] = (df[\"Age\"] - df[\"Age\"].median()) / iqr\n",
    "df[\"Age\"].describe().T"
   ]
  },
  {
   "cell_type": "markdown",
   "metadata": {},
   "source": [
    "# MinMaxScaler"
   ]
  },
  {
   "cell_type": "markdown",
   "metadata": {},
   "source": [
    "#### MinMaxScaler: Verilen 2 değer arasında değişken dönüşümü\n",
    "#### X_std = (X - X.min(axis=0)) / (X.max(axis=0) - X.min(axis=0))"
   ]
  },
  {
   "cell_type": "markdown",
   "metadata": {},
   "source": [
    "***Sklearn ile***"
   ]
  },
  {
   "cell_type": "code",
   "execution_count": 7,
   "metadata": {},
   "outputs": [
    {
     "data": {
      "text/plain": [
       "count    714.000000\n",
       "mean       0.367921\n",
       "std        0.182540\n",
       "min        0.000000\n",
       "25%        0.247612\n",
       "50%        0.346569\n",
       "75%        0.472229\n",
       "max        1.000000\n",
       "Name: Age, dtype: float64"
      ]
     },
     "execution_count": 7,
     "metadata": {},
     "output_type": "execute_result"
    }
   ],
   "source": [
    "df = load_titanic()\n",
    "from sklearn.preprocessing import MinMaxScaler\n",
    "\n",
    "transformer = MinMaxScaler((0, 1)).fit(df[[\"Age\"]])\n",
    "df[\"Age\"] = transformer.transform(df[[\"Age\"]])  # on tanımlı değeri 0 ile 1 arası.\n",
    "df[\"Age\"].describe().T"
   ]
  },
  {
   "cell_type": "markdown",
   "metadata": {},
   "source": [
    "***From Scratch***"
   ]
  },
  {
   "cell_type": "code",
   "execution_count": 8,
   "metadata": {},
   "outputs": [
    {
     "data": {
      "text/plain": [
       "count    714.000000\n",
       "mean       0.367921\n",
       "std        0.182540\n",
       "min        0.000000\n",
       "25%        0.247612\n",
       "50%        0.346569\n",
       "75%        0.472229\n",
       "max        1.000000\n",
       "Name: Age, dtype: float64"
      ]
     },
     "execution_count": 8,
     "metadata": {},
     "output_type": "execute_result"
    }
   ],
   "source": [
    "df = load_titanic()\n",
    "df[\"Age\"] = (df[\"Age\"] - df[\"Age\"].min(axis = 0)) / (df[\"Age\"].max(axis = 0) - df[\"Age\"].min(axis = 0))\n",
    "df[\"Age\"] .describe().T"
   ]
  }
 ],
 "metadata": {
  "kernelspec": {
   "display_name": "Python 3",
   "language": "python",
   "name": "python3"
  },
  "language_info": {
   "codemirror_mode": {
    "name": "ipython",
    "version": 3
   },
   "file_extension": ".py",
   "mimetype": "text/x-python",
   "name": "python",
   "nbconvert_exporter": "python",
   "pygments_lexer": "ipython3",
   "version": "3.7.4"
  }
 },
 "nbformat": 4,
 "nbformat_minor": 2
}
